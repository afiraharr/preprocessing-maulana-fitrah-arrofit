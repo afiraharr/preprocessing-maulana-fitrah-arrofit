{
 "cells": [
  {
   "cell_type": "code",
   "execution_count": 1085,
   "metadata": {},
   "outputs": [],
   "source": [
    "import pandas as pd\n",
    "import numpy as np"
   ]
  },
  {
   "cell_type": "code",
   "execution_count": 1086,
   "metadata": {},
   "outputs": [
    {
     "name": "stderr",
     "output_type": "stream",
     "text": [
      "<>:2: SyntaxWarning: invalid escape sequence '\\P'\n",
      "<>:2: SyntaxWarning: invalid escape sequence '\\P'\n",
      "C:\\Users\\lenovo\\AppData\\Local\\Temp\\ipykernel_1760\\1139084090.py:2: SyntaxWarning: invalid escape sequence '\\P'\n",
      "  df = pd.read_csv(\"e:\\PENDMAT UNNES21\\SEMESTER VII\\Data Mining\\movie_sample_dataset.csv\")\n"
     ]
    },
    {
     "data": {
      "text/html": [
       "<div>\n",
       "<style scoped>\n",
       "    .dataframe tbody tr th:only-of-type {\n",
       "        vertical-align: middle;\n",
       "    }\n",
       "\n",
       "    .dataframe tbody tr th {\n",
       "        vertical-align: top;\n",
       "    }\n",
       "\n",
       "    .dataframe thead th {\n",
       "        text-align: right;\n",
       "    }\n",
       "</style>\n",
       "<table border=\"1\" class=\"dataframe\">\n",
       "  <thead>\n",
       "    <tr style=\"text-align: right;\">\n",
       "      <th></th>\n",
       "      <th>color</th>\n",
       "      <th>director_name</th>\n",
       "      <th>duration</th>\n",
       "      <th>gross</th>\n",
       "      <th>genres</th>\n",
       "      <th>movie_title</th>\n",
       "      <th>title_year</th>\n",
       "      <th>language</th>\n",
       "      <th>country</th>\n",
       "      <th>budget</th>\n",
       "      <th>imdb_score</th>\n",
       "      <th>actors</th>\n",
       "      <th>movie_facebook_likes</th>\n",
       "    </tr>\n",
       "  </thead>\n",
       "  <tbody>\n",
       "    <tr>\n",
       "      <th>0</th>\n",
       "      <td>Color</td>\n",
       "      <td>Martin Scorsese</td>\n",
       "      <td>240</td>\n",
       "      <td>116866727.0</td>\n",
       "      <td>Biography|Comedy|Crime|Drama</td>\n",
       "      <td>The Wolf of Wall Street</td>\n",
       "      <td>2013</td>\n",
       "      <td>English</td>\n",
       "      <td>USA</td>\n",
       "      <td>100000000.0</td>\n",
       "      <td>8.2</td>\n",
       "      <td>Leonardo DiCaprio,Matthew McConaughey,Jon Favreau</td>\n",
       "      <td>138000</td>\n",
       "    </tr>\n",
       "    <tr>\n",
       "      <th>1</th>\n",
       "      <td>Color</td>\n",
       "      <td>Shane Black</td>\n",
       "      <td>195</td>\n",
       "      <td>408992272.0</td>\n",
       "      <td>Action|Adventure|Sci-Fi</td>\n",
       "      <td>Iron Man 3</td>\n",
       "      <td>2013</td>\n",
       "      <td>English</td>\n",
       "      <td>USA</td>\n",
       "      <td>200000000.0</td>\n",
       "      <td>7.2</td>\n",
       "      <td>Robert Downey Jr.,Jon Favreau,Don Cheadle</td>\n",
       "      <td>95000</td>\n",
       "    </tr>\n",
       "    <tr>\n",
       "      <th>2</th>\n",
       "      <td>color</td>\n",
       "      <td>Quentin Tarantino</td>\n",
       "      <td>187</td>\n",
       "      <td>54116191.0</td>\n",
       "      <td>Crime|Drama|Mystery|Thriller|Western</td>\n",
       "      <td>The Hateful Eight</td>\n",
       "      <td>2015</td>\n",
       "      <td>English</td>\n",
       "      <td>USA</td>\n",
       "      <td>44000000.0</td>\n",
       "      <td>7.9</td>\n",
       "      <td>Craig Stark,Jennifer Jason Leigh,Zoë Bell</td>\n",
       "      <td>114000</td>\n",
       "    </tr>\n",
       "    <tr>\n",
       "      <th>3</th>\n",
       "      <td>Color</td>\n",
       "      <td>Kenneth Lonergan</td>\n",
       "      <td>186</td>\n",
       "      <td>46495.0</td>\n",
       "      <td>Drama</td>\n",
       "      <td>Margaret</td>\n",
       "      <td>2011</td>\n",
       "      <td>English</td>\n",
       "      <td>usa</td>\n",
       "      <td>14000000.0</td>\n",
       "      <td>6.5</td>\n",
       "      <td>Matt Damon,Kieran Culkin,John Gallagher Jr.</td>\n",
       "      <td>0</td>\n",
       "    </tr>\n",
       "    <tr>\n",
       "      <th>4</th>\n",
       "      <td>Color</td>\n",
       "      <td>Peter Jackson</td>\n",
       "      <td>186</td>\n",
       "      <td>258355354.0</td>\n",
       "      <td>Adventure|Fantasy</td>\n",
       "      <td>The Hobbit: The Desolation of Smaug</td>\n",
       "      <td>2013</td>\n",
       "      <td>English</td>\n",
       "      <td>USA</td>\n",
       "      <td>225000000.0</td>\n",
       "      <td>7.9</td>\n",
       "      <td>Aidan Turner,Adam Brown,James Nesbitt</td>\n",
       "      <td>83000</td>\n",
       "    </tr>\n",
       "    <tr>\n",
       "      <th>...</th>\n",
       "      <td>...</td>\n",
       "      <td>...</td>\n",
       "      <td>...</td>\n",
       "      <td>...</td>\n",
       "      <td>...</td>\n",
       "      <td>...</td>\n",
       "      <td>...</td>\n",
       "      <td>...</td>\n",
       "      <td>...</td>\n",
       "      <td>...</td>\n",
       "      <td>...</td>\n",
       "      <td>...</td>\n",
       "      <td>...</td>\n",
       "    </tr>\n",
       "    <tr>\n",
       "      <th>94</th>\n",
       "      <td>Color</td>\n",
       "      <td>Steve McQueen</td>\n",
       "      <td>134</td>\n",
       "      <td>56667870.0</td>\n",
       "      <td>Biography|Drama|History</td>\n",
       "      <td>12 Years a Slave</td>\n",
       "      <td>2013</td>\n",
       "      <td>English</td>\n",
       "      <td>USA</td>\n",
       "      <td>20000000.0</td>\n",
       "      <td>8.1</td>\n",
       "      <td>Quvenzhané Wallis,Scoot McNairy,Taran Killam</td>\n",
       "      <td>83000</td>\n",
       "    </tr>\n",
       "    <tr>\n",
       "      <th>95</th>\n",
       "      <td>Color</td>\n",
       "      <td>Richard J. Lewis</td>\n",
       "      <td>134</td>\n",
       "      <td>7501404.0</td>\n",
       "      <td>Comedy|Drama</td>\n",
       "      <td>Barney's Version</td>\n",
       "      <td>2010</td>\n",
       "      <td>English</td>\n",
       "      <td>Canada</td>\n",
       "      <td>NaN</td>\n",
       "      <td>7.3</td>\n",
       "      <td>Mark Addy,Atom Egoyan,Paul Gross</td>\n",
       "      <td>0</td>\n",
       "    </tr>\n",
       "    <tr>\n",
       "      <th>96</th>\n",
       "      <td>Color</td>\n",
       "      <td>Paul Greengrass</td>\n",
       "      <td>134</td>\n",
       "      <td>107100855.0</td>\n",
       "      <td>Biography|Drama|Thriller</td>\n",
       "      <td>Captain Phillips</td>\n",
       "      <td>2013</td>\n",
       "      <td>English</td>\n",
       "      <td>USA</td>\n",
       "      <td>55000000.0</td>\n",
       "      <td>7.9</td>\n",
       "      <td>Tom Hanks,Chris Mulkey,Michael Chernus</td>\n",
       "      <td>65000</td>\n",
       "    </tr>\n",
       "    <tr>\n",
       "      <th>97</th>\n",
       "      <td>Color</td>\n",
       "      <td>David Ayer</td>\n",
       "      <td>134</td>\n",
       "      <td>85707116.0</td>\n",
       "      <td>Action|Drama|War</td>\n",
       "      <td>Fury</td>\n",
       "      <td>2014</td>\n",
       "      <td>English</td>\n",
       "      <td>USA</td>\n",
       "      <td>68000000.0</td>\n",
       "      <td>7.6</td>\n",
       "      <td>Brad Pitt,Logan Lerman,Jim Parrack</td>\n",
       "      <td>82000</td>\n",
       "    </tr>\n",
       "    <tr>\n",
       "      <th>98</th>\n",
       "      <td>Color</td>\n",
       "      <td>Clint Eastwood</td>\n",
       "      <td>5</td>\n",
       "      <td>47034272.0</td>\n",
       "      <td>Biography|Drama|Music|Musical</td>\n",
       "      <td>Jersey Boys</td>\n",
       "      <td>2014</td>\n",
       "      <td>English</td>\n",
       "      <td>USA</td>\n",
       "      <td>40000000.0</td>\n",
       "      <td>6.9</td>\n",
       "      <td>Johnny Cannizzaro,Steve Schirripa,Scott Vance</td>\n",
       "      <td>16000</td>\n",
       "    </tr>\n",
       "  </tbody>\n",
       "</table>\n",
       "<p>99 rows × 13 columns</p>\n",
       "</div>"
      ],
      "text/plain": [
       "     color      director_name  duration        gross  \\\n",
       "0    Color    Martin Scorsese       240  116866727.0   \n",
       "1    Color        Shane Black       195  408992272.0   \n",
       "2   color   Quentin Tarantino       187   54116191.0   \n",
       "3    Color   Kenneth Lonergan       186      46495.0   \n",
       "4    Color      Peter Jackson       186  258355354.0   \n",
       "..     ...                ...       ...          ...   \n",
       "94   Color      Steve McQueen       134   56667870.0   \n",
       "95   Color   Richard J. Lewis       134    7501404.0   \n",
       "96   Color    Paul Greengrass       134  107100855.0   \n",
       "97   Color         David Ayer       134   85707116.0   \n",
       "98   Color     Clint Eastwood         5   47034272.0   \n",
       "\n",
       "                                  genres                          movie_title  \\\n",
       "0           Biography|Comedy|Crime|Drama              The Wolf of Wall Street   \n",
       "1                Action|Adventure|Sci-Fi                           Iron Man 3   \n",
       "2   Crime|Drama|Mystery|Thriller|Western                    The Hateful Eight   \n",
       "3                                  Drama                             Margaret   \n",
       "4                      Adventure|Fantasy  The Hobbit: The Desolation of Smaug   \n",
       "..                                   ...                                  ...   \n",
       "94               Biography|Drama|History                     12 Years a Slave   \n",
       "95                          Comedy|Drama                     Barney's Version   \n",
       "96              Biography|Drama|Thriller                     Captain Phillips   \n",
       "97                      Action|Drama|War                                 Fury   \n",
       "98         Biography|Drama|Music|Musical                          Jersey Boys   \n",
       "\n",
       "    title_year language country       budget  imdb_score  \\\n",
       "0         2013  English     USA  100000000.0         8.2   \n",
       "1         2013  English     USA  200000000.0         7.2   \n",
       "2         2015  English     USA   44000000.0         7.9   \n",
       "3         2011  English     usa   14000000.0         6.5   \n",
       "4         2013  English     USA  225000000.0         7.9   \n",
       "..         ...      ...     ...          ...         ...   \n",
       "94        2013  English     USA   20000000.0         8.1   \n",
       "95        2010  English  Canada          NaN         7.3   \n",
       "96        2013  English     USA   55000000.0         7.9   \n",
       "97        2014  English     USA   68000000.0         7.6   \n",
       "98        2014  English     USA   40000000.0         6.9   \n",
       "\n",
       "                                               actors  movie_facebook_likes  \n",
       "0   Leonardo DiCaprio,Matthew McConaughey,Jon Favreau                138000  \n",
       "1           Robert Downey Jr.,Jon Favreau,Don Cheadle                 95000  \n",
       "2           Craig Stark,Jennifer Jason Leigh,Zoë Bell                114000  \n",
       "3         Matt Damon,Kieran Culkin,John Gallagher Jr.                     0  \n",
       "4               Aidan Turner,Adam Brown,James Nesbitt                 83000  \n",
       "..                                                ...                   ...  \n",
       "94       Quvenzhané Wallis,Scoot McNairy,Taran Killam                 83000  \n",
       "95                   Mark Addy,Atom Egoyan,Paul Gross                     0  \n",
       "96             Tom Hanks,Chris Mulkey,Michael Chernus                 65000  \n",
       "97                 Brad Pitt,Logan Lerman,Jim Parrack                 82000  \n",
       "98      Johnny Cannizzaro,Steve Schirripa,Scott Vance                 16000  \n",
       "\n",
       "[99 rows x 13 columns]"
      ]
     },
     "execution_count": 1086,
     "metadata": {},
     "output_type": "execute_result"
    }
   ],
   "source": [
    "#pemanggilan data\n",
    "df = pd.read_csv(\"e:\\PENDMAT UNNES21\\SEMESTER VII\\Data Mining\\movie_sample_dataset.csv\")\n",
    "df"
   ]
  },
  {
   "cell_type": "code",
   "execution_count": 1087,
   "metadata": {},
   "outputs": [
    {
     "data": {
      "text/html": [
       "<div>\n",
       "<style scoped>\n",
       "    .dataframe tbody tr th:only-of-type {\n",
       "        vertical-align: middle;\n",
       "    }\n",
       "\n",
       "    .dataframe tbody tr th {\n",
       "        vertical-align: top;\n",
       "    }\n",
       "\n",
       "    .dataframe thead th {\n",
       "        text-align: right;\n",
       "    }\n",
       "</style>\n",
       "<table border=\"1\" class=\"dataframe\">\n",
       "  <thead>\n",
       "    <tr style=\"text-align: right;\">\n",
       "      <th></th>\n",
       "      <th>color</th>\n",
       "      <th>director_name</th>\n",
       "      <th>duration</th>\n",
       "      <th>gross</th>\n",
       "      <th>genres</th>\n",
       "      <th>movie_title</th>\n",
       "      <th>title_year</th>\n",
       "      <th>language</th>\n",
       "      <th>country</th>\n",
       "      <th>budget</th>\n",
       "      <th>imdb_score</th>\n",
       "      <th>actors</th>\n",
       "      <th>movie_facebook_likes</th>\n",
       "    </tr>\n",
       "  </thead>\n",
       "  <tbody>\n",
       "    <tr>\n",
       "      <th>0</th>\n",
       "      <td>Color</td>\n",
       "      <td>Martin Scorsese</td>\n",
       "      <td>240</td>\n",
       "      <td>116866727.0</td>\n",
       "      <td>Biography|Comedy|Crime|Drama</td>\n",
       "      <td>The Wolf of Wall Street</td>\n",
       "      <td>2013</td>\n",
       "      <td>English</td>\n",
       "      <td>USA</td>\n",
       "      <td>100000000.0</td>\n",
       "      <td>8.2</td>\n",
       "      <td>Leonardo DiCaprio,Matthew McConaughey,Jon Favreau</td>\n",
       "      <td>138000</td>\n",
       "    </tr>\n",
       "    <tr>\n",
       "      <th>1</th>\n",
       "      <td>Color</td>\n",
       "      <td>Shane Black</td>\n",
       "      <td>195</td>\n",
       "      <td>408992272.0</td>\n",
       "      <td>Action|Adventure|Sci-Fi</td>\n",
       "      <td>Iron Man 3</td>\n",
       "      <td>2013</td>\n",
       "      <td>English</td>\n",
       "      <td>USA</td>\n",
       "      <td>200000000.0</td>\n",
       "      <td>7.2</td>\n",
       "      <td>Robert Downey Jr.,Jon Favreau,Don Cheadle</td>\n",
       "      <td>95000</td>\n",
       "    </tr>\n",
       "    <tr>\n",
       "      <th>2</th>\n",
       "      <td>color</td>\n",
       "      <td>Quentin Tarantino</td>\n",
       "      <td>187</td>\n",
       "      <td>54116191.0</td>\n",
       "      <td>Crime|Drama|Mystery|Thriller|Western</td>\n",
       "      <td>The Hateful Eight</td>\n",
       "      <td>2015</td>\n",
       "      <td>English</td>\n",
       "      <td>USA</td>\n",
       "      <td>44000000.0</td>\n",
       "      <td>7.9</td>\n",
       "      <td>Craig Stark,Jennifer Jason Leigh,Zoë Bell</td>\n",
       "      <td>114000</td>\n",
       "    </tr>\n",
       "    <tr>\n",
       "      <th>3</th>\n",
       "      <td>Color</td>\n",
       "      <td>Kenneth Lonergan</td>\n",
       "      <td>186</td>\n",
       "      <td>46495.0</td>\n",
       "      <td>Drama</td>\n",
       "      <td>Margaret</td>\n",
       "      <td>2011</td>\n",
       "      <td>English</td>\n",
       "      <td>usa</td>\n",
       "      <td>14000000.0</td>\n",
       "      <td>6.5</td>\n",
       "      <td>Matt Damon,Kieran Culkin,John Gallagher Jr.</td>\n",
       "      <td>0</td>\n",
       "    </tr>\n",
       "    <tr>\n",
       "      <th>4</th>\n",
       "      <td>Color</td>\n",
       "      <td>Peter Jackson</td>\n",
       "      <td>186</td>\n",
       "      <td>258355354.0</td>\n",
       "      <td>Adventure|Fantasy</td>\n",
       "      <td>The Hobbit: The Desolation of Smaug</td>\n",
       "      <td>2013</td>\n",
       "      <td>English</td>\n",
       "      <td>USA</td>\n",
       "      <td>225000000.0</td>\n",
       "      <td>7.9</td>\n",
       "      <td>Aidan Turner,Adam Brown,James Nesbitt</td>\n",
       "      <td>83000</td>\n",
       "    </tr>\n",
       "  </tbody>\n",
       "</table>\n",
       "</div>"
      ],
      "text/plain": [
       "    color      director_name  duration        gross  \\\n",
       "0   Color    Martin Scorsese       240  116866727.0   \n",
       "1   Color        Shane Black       195  408992272.0   \n",
       "2  color   Quentin Tarantino       187   54116191.0   \n",
       "3   Color   Kenneth Lonergan       186      46495.0   \n",
       "4   Color      Peter Jackson       186  258355354.0   \n",
       "\n",
       "                                 genres                          movie_title  \\\n",
       "0          Biography|Comedy|Crime|Drama              The Wolf of Wall Street   \n",
       "1               Action|Adventure|Sci-Fi                           Iron Man 3   \n",
       "2  Crime|Drama|Mystery|Thriller|Western                    The Hateful Eight   \n",
       "3                                 Drama                             Margaret   \n",
       "4                     Adventure|Fantasy  The Hobbit: The Desolation of Smaug   \n",
       "\n",
       "   title_year language country       budget  imdb_score  \\\n",
       "0        2013  English     USA  100000000.0         8.2   \n",
       "1        2013  English     USA  200000000.0         7.2   \n",
       "2        2015  English     USA   44000000.0         7.9   \n",
       "3        2011  English     usa   14000000.0         6.5   \n",
       "4        2013  English     USA  225000000.0         7.9   \n",
       "\n",
       "                                              actors  movie_facebook_likes  \n",
       "0  Leonardo DiCaprio,Matthew McConaughey,Jon Favreau                138000  \n",
       "1          Robert Downey Jr.,Jon Favreau,Don Cheadle                 95000  \n",
       "2          Craig Stark,Jennifer Jason Leigh,Zoë Bell                114000  \n",
       "3        Matt Damon,Kieran Culkin,John Gallagher Jr.                     0  \n",
       "4              Aidan Turner,Adam Brown,James Nesbitt                 83000  "
      ]
     },
     "execution_count": 1087,
     "metadata": {},
     "output_type": "execute_result"
    }
   ],
   "source": [
    "#menampilkan 5 baris pertama dari dataset\n",
    "df.head()"
   ]
  },
  {
   "cell_type": "code",
   "execution_count": 1088,
   "metadata": {},
   "outputs": [
    {
     "name": "stdout",
     "output_type": "stream",
     "text": [
      "<class 'pandas.core.frame.DataFrame'>\n",
      "RangeIndex: 99 entries, 0 to 98\n",
      "Data columns (total 13 columns):\n",
      " #   Column                Non-Null Count  Dtype  \n",
      "---  ------                --------------  -----  \n",
      " 0   color                 88 non-null     object \n",
      " 1   director_name         88 non-null     object \n",
      " 2   duration              99 non-null     int64  \n",
      " 3   gross                 91 non-null     float64\n",
      " 4   genres                98 non-null     object \n",
      " 5   movie_title           99 non-null     object \n",
      " 6   title_year            99 non-null     int64  \n",
      " 7   language              99 non-null     object \n",
      " 8   country               99 non-null     object \n",
      " 9   budget                95 non-null     float64\n",
      " 10  imdb_score            99 non-null     float64\n",
      " 11  actors                99 non-null     object \n",
      " 12  movie_facebook_likes  99 non-null     int64  \n",
      "dtypes: float64(3), int64(3), object(7)\n",
      "memory usage: 10.2+ KB\n"
     ]
    }
   ],
   "source": [
    "#memeriksa informasi umum dari dataset\n",
    "df.info()"
   ]
  },
  {
   "cell_type": "code",
   "execution_count": 1089,
   "metadata": {},
   "outputs": [
    {
     "name": "stderr",
     "output_type": "stream",
     "text": [
      "c:\\Users\\lenovo\\AppData\\Local\\Programs\\Python\\Python312\\Lib\\site-packages\\numpy\\_core\\fromnumeric.py:84: FutureWarning: The behavior of DataFrame.sum with axis=None is deprecated, in a future version this will reduce over both axes and return a scalar. To retain the old behavior, pass axis=0 (or do not pass axis)\n",
      "  return reduction(axis=axis, out=out, **passkwargs)\n"
     ]
    },
    {
     "data": {
      "text/plain": [
       "color                   11\n",
       "director_name           11\n",
       "duration                 0\n",
       "gross                    8\n",
       "genres                   1\n",
       "movie_title              0\n",
       "title_year               0\n",
       "language                 0\n",
       "country                  0\n",
       "budget                   4\n",
       "imdb_score               0\n",
       "actors                   0\n",
       "movie_facebook_likes     0\n",
       "dtype: int64"
      ]
     },
     "execution_count": 1089,
     "metadata": {},
     "output_type": "execute_result"
    }
   ],
   "source": [
    "#memeriksa jumlah missing values di setiap kolom\n",
    "np.sum(df.isnull())"
   ]
  },
  {
   "cell_type": "code",
   "execution_count": 1090,
   "metadata": {},
   "outputs": [
    {
     "data": {
      "text/plain": [
       "np.int64(35)"
      ]
     },
     "execution_count": 1090,
     "metadata": {},
     "output_type": "execute_result"
    }
   ],
   "source": [
    "#mengetahui jumlah missing value di seluruh dataset\n",
    "df.isnull().sum().sum()"
   ]
  },
  {
   "cell_type": "code",
   "execution_count": 1091,
   "metadata": {},
   "outputs": [
    {
     "data": {
      "text/plain": [
       "color                    object\n",
       "director_name            object\n",
       "duration                  int64\n",
       "gross                   float64\n",
       "genres                   object\n",
       "movie_title              object\n",
       "title_year                int64\n",
       "language                 object\n",
       "country                  object\n",
       "budget                  float64\n",
       "imdb_score              float64\n",
       "actors                   object\n",
       "movie_facebook_likes      int64\n",
       "dtype: object"
      ]
     },
     "execution_count": 1091,
     "metadata": {},
     "output_type": "execute_result"
    }
   ],
   "source": [
    "#mengecek tipe data\n",
    "df.dtypes"
   ]
  },
  {
   "cell_type": "markdown",
   "metadata": {},
   "source": [
    "Berdasarkan output summarize tersebut, diperoleh bahwa kolom yang mengandung Missing Values (blanks/ N/A (Python : nan atau NaN)) adalah kolom color, director_name, gross, genres, budget."
   ]
  },
  {
   "cell_type": "markdown",
   "metadata": {},
   "source": [
    "1. Color"
   ]
  },
  {
   "cell_type": "code",
   "execution_count": 1092,
   "metadata": {},
   "outputs": [
    {
     "data": {
      "text/plain": [
       "array(['Color', 'color ', nan, ' Black and White'], dtype=object)"
      ]
     },
     "execution_count": 1092,
     "metadata": {},
     "output_type": "execute_result"
    }
   ],
   "source": [
    "#melihat isi dalam kolom color\n",
    "df['color'].unique()"
   ]
  },
  {
   "cell_type": "code",
   "execution_count": 1093,
   "metadata": {},
   "outputs": [
    {
     "data": {
      "text/plain": [
       "np.int64(11)"
      ]
     },
     "execution_count": 1093,
     "metadata": {},
     "output_type": "execute_result"
    }
   ],
   "source": [
    "#jumlah missing value\n",
    "np.sum(df['color'].isnull())"
   ]
  },
  {
   "cell_type": "code",
   "execution_count": 1094,
   "metadata": {},
   "outputs": [
    {
     "data": {
      "text/plain": [
       "0    Color\n",
       "Name: color, dtype: object"
      ]
     },
     "execution_count": 1094,
     "metadata": {},
     "output_type": "execute_result"
    }
   ],
   "source": [
    "#data berupa kategorik maka tidak dapat diisi menggunakan nilai mean. Sehingga akan diisi dengan modus\n",
    "from scipy.stats import mode\n",
    "df['color'].mode()"
   ]
  },
  {
   "cell_type": "code",
   "execution_count": 1095,
   "metadata": {},
   "outputs": [],
   "source": [
    "#memasukkan modus ke data missing\n",
    "\n",
    "#imputasi data kategorik dengan modus\n",
    "df['color'] = df['color'].fillna(df['color'].value_counts().index[0])"
   ]
  },
  {
   "cell_type": "code",
   "execution_count": 1096,
   "metadata": {},
   "outputs": [
    {
     "data": {
      "text/plain": [
       "np.int64(0)"
      ]
     },
     "execution_count": 1096,
     "metadata": {},
     "output_type": "execute_result"
    }
   ],
   "source": [
    "#jumlah missing value\n",
    "np.sum(df['color'].isnull())"
   ]
  },
  {
   "cell_type": "markdown",
   "metadata": {},
   "source": [
    "2. Director Name"
   ]
  },
  {
   "cell_type": "code",
   "execution_count": 1097,
   "metadata": {},
   "outputs": [
    {
     "data": {
      "text/plain": [
       "array(['Martin Scorsese', 'Shane Black', 'Quentin Tarantino',\n",
       "       'Kenneth Lonergan', 'Peter Jackson', nan, 'Edward Hall',\n",
       "       'Joss Whedon', 'Tom Tykwer', 'Null', 'Christopher Spencer',\n",
       "       'Christopher Nolan', 'F. Gary Gray', 'Richard Linklater',\n",
       "       'Michael Bay', 'Tom Hooper', 'Kathryn Bigelow', 'Ridley Scott',\n",
       "       'Denis Villeneuve', 'Gnana Rajasekaran', 'Marc Webb', 'Nan',\n",
       "       'Mike Leigh', 'Gore Verbinski', 'David Fincher', 'Bryan Singer',\n",
       "       'Jay Oliva', 'Paul Thomas Anderson', 'Sam Mendes',\n",
       "       'Michael Patrick King', 'Tate Taylor', 'Francis Lawrence',\n",
       "       'Steven Spielberg', 'Guillaume Canet', 'Adam McKay', 'Zack Snyder',\n",
       "       'Baz Luhrmann', 'Timur Bekmambetov', 'Justin Chadwick',\n",
       "       'Oliver Stone', 'David Dobkin', 'Ryan Murphy', 'James Wan',\n",
       "       'Derek Cianfrance', \"Gavin O'Connor\", 'Gary Ross',\n",
       "       'Terrence Malick', 'Robert Zemeckis', 'Darren Aronofsky',\n",
       "       'James Mangold', 'Daniel Espinosa', 'Walter Salles',\n",
       "       'Angelina Jolie Pitt', 'Seth MacFarlane', 'Anthony Russo',\n",
       "       'Rob Marshall', 'Adam Shankman', 'Sadyk Sher-Niyaz', 'Tony Gilroy',\n",
       "       'Steve McQueen', 'Richard J. Lewis', 'Paul Greengrass',\n",
       "       'David Ayer', 'Clint Eastwood'], dtype=object)"
      ]
     },
     "execution_count": 1097,
     "metadata": {},
     "output_type": "execute_result"
    }
   ],
   "source": [
    "#melihat isi dalam kolom director_name\n",
    "df['director_name'].unique()"
   ]
  },
  {
   "cell_type": "code",
   "execution_count": 1098,
   "metadata": {},
   "outputs": [
    {
     "data": {
      "text/plain": [
       "np.int64(11)"
      ]
     },
     "execution_count": 1098,
     "metadata": {},
     "output_type": "execute_result"
    }
   ],
   "source": [
    "#jumlah missing value\n",
    "np.sum(df['director_name'].isnull())"
   ]
  },
  {
   "cell_type": "code",
   "execution_count": 1099,
   "metadata": {},
   "outputs": [],
   "source": [
    "#imputasi data kategorik dengan kata 'tidak diketahui'\n",
    "df['director_name'] = df['director_name'].fillna('tidak diketahui')"
   ]
  },
  {
   "cell_type": "code",
   "execution_count": 1100,
   "metadata": {},
   "outputs": [
    {
     "data": {
      "text/plain": [
       "array(['Martin Scorsese', 'Shane Black', 'Quentin Tarantino',\n",
       "       'Kenneth Lonergan', 'Peter Jackson', 'tidak diketahui',\n",
       "       'Edward Hall', 'Joss Whedon', 'Tom Tykwer', 'Null',\n",
       "       'Christopher Spencer', 'Christopher Nolan', 'F. Gary Gray',\n",
       "       'Richard Linklater', 'Michael Bay', 'Tom Hooper',\n",
       "       'Kathryn Bigelow', 'Ridley Scott', 'Denis Villeneuve',\n",
       "       'Gnana Rajasekaran', 'Marc Webb', 'Nan', 'Mike Leigh',\n",
       "       'Gore Verbinski', 'David Fincher', 'Bryan Singer', 'Jay Oliva',\n",
       "       'Paul Thomas Anderson', 'Sam Mendes', 'Michael Patrick King',\n",
       "       'Tate Taylor', 'Francis Lawrence', 'Steven Spielberg',\n",
       "       'Guillaume Canet', 'Adam McKay', 'Zack Snyder', 'Baz Luhrmann',\n",
       "       'Timur Bekmambetov', 'Justin Chadwick', 'Oliver Stone',\n",
       "       'David Dobkin', 'Ryan Murphy', 'James Wan', 'Derek Cianfrance',\n",
       "       \"Gavin O'Connor\", 'Gary Ross', 'Terrence Malick',\n",
       "       'Robert Zemeckis', 'Darren Aronofsky', 'James Mangold',\n",
       "       'Daniel Espinosa', 'Walter Salles', 'Angelina Jolie Pitt',\n",
       "       'Seth MacFarlane', 'Anthony Russo', 'Rob Marshall',\n",
       "       'Adam Shankman', 'Sadyk Sher-Niyaz', 'Tony Gilroy',\n",
       "       'Steve McQueen', 'Richard J. Lewis', 'Paul Greengrass',\n",
       "       'David Ayer', 'Clint Eastwood'], dtype=object)"
      ]
     },
     "execution_count": 1100,
     "metadata": {},
     "output_type": "execute_result"
    }
   ],
   "source": [
    "df['director_name'].unique()"
   ]
  },
  {
   "cell_type": "code",
   "execution_count": 1101,
   "metadata": {},
   "outputs": [
    {
     "data": {
      "text/plain": [
       "np.int64(0)"
      ]
     },
     "execution_count": 1101,
     "metadata": {},
     "output_type": "execute_result"
    }
   ],
   "source": [
    "#jumlah missing value\n",
    "np.sum(df['director_name'].isnull())"
   ]
  },
  {
   "cell_type": "markdown",
   "metadata": {},
   "source": [
    "3. Gross"
   ]
  },
  {
   "cell_type": "code",
   "execution_count": 1102,
   "metadata": {},
   "outputs": [
    {
     "data": {
      "text/plain": [
       "array([1.16866727e+08, 4.08992272e+08, 5.41161910e+07, 4.64950000e+04,\n",
       "       2.58355354e+08, 3.30249062e+08, 3.03001229e+08,            nan,\n",
       "       6.23279547e+08, 2.70985800e+07, 1.02515793e+08, 5.96961760e+07,\n",
       "       1.87991439e+08, 1.61029270e+08, 2.53592000e+07, 1.62804648e+08,\n",
       "       2.45428137e+08, 4.48130642e+08, 2.55108370e+08, 1.48775460e+08,\n",
       "       9.57207160e+07, 1.05219735e+08, 1.83635922e+08, 3.52358779e+08,\n",
       "       6.09628780e+07, 2.62030663e+08, 2.28430993e+08, 6.50070450e+07,\n",
       "       1.82204440e+08, 3.95850000e+06, 8.92899100e+07, 1.67735396e+08,\n",
       "       2.33914986e+08, 2.92568851e+08, 8.09331800e+06, 2.00074175e+08,\n",
       "       4.07197282e+08, 9.53289370e+07, 1.69705587e+08, 4.24645577e+08,\n",
       "       7.98833590e+07, 5.28224180e+07, 4.12290000e+04, 1.63772740e+07,\n",
       "       1.54985087e+08, 2.17531200e+06, 2.91021565e+08, 3.04360277e+08,\n",
       "       1.44812796e+08, 7.23060650e+07, 2.02853933e+08, 4.07999255e+08,\n",
       "       4.58991599e+08, 8.32474800e+06, 4.73075500e+07, 4.71050850e+07,\n",
       "       8.05740100e+07, 3.50034110e+08, 2.13832980e+07, 1.36516620e+07,\n",
       "       1.50832203e+08, 2.03899670e+07, 3.05139400e+07, 1.33033190e+07,\n",
       "       1.50117807e+08, 9.37492030e+07, 1.01160529e+08, 1.27968405e+08,\n",
       "       1.69693900e+07, 1.32550960e+08, 1.20613500e+06, 3.73049500e+07,\n",
       "       7.17753000e+05, 2.81666058e+08, 1.15603980e+08, 4.26156850e+07,\n",
       "       2.59746958e+08, 2.41063875e+08, 3.85093420e+07, 5.24746160e+07,\n",
       "       1.13165635e+08, 5.66678700e+07, 7.50140400e+06, 1.07100855e+08,\n",
       "       8.57071160e+07, 4.70342720e+07])"
      ]
     },
     "execution_count": 1102,
     "metadata": {},
     "output_type": "execute_result"
    }
   ],
   "source": [
    "#melihat isi dalam kolom gross\n",
    "df['gross'].unique()"
   ]
  },
  {
   "cell_type": "code",
   "execution_count": 1103,
   "metadata": {},
   "outputs": [
    {
     "data": {
      "text/plain": [
       "np.int64(8)"
      ]
     },
     "execution_count": 1103,
     "metadata": {},
     "output_type": "execute_result"
    }
   ],
   "source": [
    "#jumlah missing value\n",
    "np.sum(df['gross'].isnull())"
   ]
  },
  {
   "cell_type": "code",
   "execution_count": 1104,
   "metadata": {},
   "outputs": [
    {
     "data": {
      "text/plain": [
       "np.float64(154191431.27472526)"
      ]
     },
     "execution_count": 1104,
     "metadata": {},
     "output_type": "execute_result"
    }
   ],
   "source": [
    "#imputasi data numerik dengan mean\n",
    "df['gross']=df['gross'].fillna(df['gross'].mean())\n",
    "np.mean(df['gross'])"
   ]
  },
  {
   "cell_type": "code",
   "execution_count": 1105,
   "metadata": {},
   "outputs": [
    {
     "data": {
      "text/plain": [
       "np.int64(0)"
      ]
     },
     "execution_count": 1105,
     "metadata": {},
     "output_type": "execute_result"
    }
   ],
   "source": [
    "#jumlah missing value\n",
    "np.sum(df['gross'].isnull())"
   ]
  },
  {
   "cell_type": "markdown",
   "metadata": {},
   "source": [
    "4. Genres"
   ]
  },
  {
   "cell_type": "code",
   "execution_count": 1106,
   "metadata": {},
   "outputs": [
    {
     "data": {
      "text/plain": [
       "array(['Biography|Comedy|Crime|Drama', 'Action|Adventure|Sci-Fi',\n",
       "       'Crime|Drama|Mystery|Thriller|Western', 'Drama',\n",
       "       'Adventure|Fantasy', 'Drama|Romance', 'Drama|Sci-Fi',\n",
       "       'Crime|Drama|Mystery|Thriller', nan, 'Adventure|Drama|Sci-Fi',\n",
       "       'Biography|Crime|Drama|History|Music', 'Drama|Western',\n",
       "       'Action|Thriller', 'Drama|Musical|Romance',\n",
       "       'Drama|History|Thriller', 'Action|Adventure|Drama|History',\n",
       "       'Adventure|Drama|Thriller|Western', 'Biography|Drama|History',\n",
       "       'Action|Adventure|Fantasy', 'Action|Adventure|Drama',\n",
       "       'Biography|Drama|History|War', 'Action|Adventure|Western',\n",
       "       'Action|Adventure|Fantasy|Sci-Fi|Thriller',\n",
       "       'Action|Animation|Crime|Sci-Fi|Thriller',\n",
       "       'Action|Adventure|Sci-Fi|Thriller',\n",
       "       'Comedy|Crime|Drama|Mystery|Romance', 'Action|Adventure|Thriller',\n",
       "       'Comedy|Drama|Romance', 'Adventure|Sci-Fi|Thriller', 'Drama|War',\n",
       "       'Action|Drama|Thriller|War', 'Crime|Drama|Thriller', 'Comedy',\n",
       "       'Action|Adventure|Fantasy|Sci-Fi', 'Drama|Horror|Thriller',\n",
       "       'Adventure|Drama|Sci-Fi|Thriller', 'Adventure|Drama|History',\n",
       "       'Crime|Drama', 'Action|Crime|Thriller', 'Drama|Sport',\n",
       "       'Adventure|Mystery|Sci-Fi', 'Action|Biography|Drama|History|War',\n",
       "       'Biography|Drama|Music', 'Drama|Fantasy', 'Drama|Thriller',\n",
       "       'Mystery|Thriller', 'Biography|Crime|Drama', 'Adventure|Drama',\n",
       "       'Adventure|Sci-Fi', 'Biography|Drama|Sport|War', 'Comedy|Western',\n",
       "       'Comedy|Drama|Musical|Romance', 'Action|Biography|Drama|History',\n",
       "       'Comedy|Drama', 'Biography|Drama|Thriller', 'Action|Drama|War',\n",
       "       'Biography|Drama|Music|Musical'], dtype=object)"
      ]
     },
     "execution_count": 1106,
     "metadata": {},
     "output_type": "execute_result"
    }
   ],
   "source": [
    "#melihat isi dalam kolom genres\n",
    "df['genres'].unique()"
   ]
  },
  {
   "cell_type": "code",
   "execution_count": 1107,
   "metadata": {},
   "outputs": [
    {
     "data": {
      "text/plain": [
       "np.int64(1)"
      ]
     },
     "execution_count": 1107,
     "metadata": {},
     "output_type": "execute_result"
    }
   ],
   "source": [
    "#jumlah missing value\n",
    "np.sum(df['genres'].isnull())"
   ]
  },
  {
   "cell_type": "code",
   "execution_count": 1108,
   "metadata": {},
   "outputs": [],
   "source": [
    "#imputasi dengan kata 'tidak diketahui'\n",
    "df['genres'] = df['genres'].fillna('tidak diketahui')"
   ]
  },
  {
   "cell_type": "code",
   "execution_count": 1109,
   "metadata": {},
   "outputs": [
    {
     "data": {
      "text/plain": [
       "np.int64(0)"
      ]
     },
     "execution_count": 1109,
     "metadata": {},
     "output_type": "execute_result"
    }
   ],
   "source": [
    "#jumlah missing value\n",
    "np.sum(df['genres'].isnull())"
   ]
  },
  {
   "cell_type": "markdown",
   "metadata": {},
   "source": [
    "5. Budget"
   ]
  },
  {
   "cell_type": "code",
   "execution_count": 1110,
   "metadata": {},
   "outputs": [
    {
     "data": {
      "text/plain": [
       "array([1.000e+08, 2.000e+08, 4.400e+07, 1.400e+07, 2.250e+08, 2.500e+08,\n",
       "       1.800e+08,       nan, 2.200e+08, 1.020e+08, 9.000e+07, 2.200e+07,\n",
       "       1.650e+08, 2.800e+07, 4.000e+06, 2.100e+08, 6.100e+07, 4.000e+07,\n",
       "       1.350e+08, 1.950e+08, 4.600e+07, 2.300e+08, 1.080e+08, 1.400e+08,\n",
       "       6.500e+07, 2.150e+08, 3.500e+06, 1.600e+08, 2.000e+07, 2.450e+08,\n",
       "       2.500e+07, 1.300e+08, 6.600e+07, 5.000e+07, 2.550e+07, 3.200e+07,\n",
       "       1.780e+08, 1.050e+08, 1.735e+04, 7.800e+07, 3.500e+07, 4.500e+07,\n",
       "       6.000e+07, 1.900e+08, 1.500e+07, 8.500e+07, 3.000e+07, 3.100e+07,\n",
       "       1.250e+08, 8.000e+07, 1.200e+08, 1.700e+08, 7.500e+07, 7.000e+07,\n",
       "       1.400e+06, 5.500e+07, 6.800e+07])"
      ]
     },
     "execution_count": 1110,
     "metadata": {},
     "output_type": "execute_result"
    }
   ],
   "source": [
    "#melihat isi dalam kolom budget\n",
    "df['budget'].unique()"
   ]
  },
  {
   "cell_type": "code",
   "execution_count": 1111,
   "metadata": {},
   "outputs": [
    {
     "data": {
      "text/plain": [
       "np.int64(4)"
      ]
     },
     "execution_count": 1111,
     "metadata": {},
     "output_type": "execute_result"
    }
   ],
   "source": [
    "#jumlah missing value\n",
    "np.sum(df['budget'].isnull())"
   ]
  },
  {
   "cell_type": "code",
   "execution_count": 1112,
   "metadata": {},
   "outputs": [
    {
     "data": {
      "text/plain": [
       "np.float64(104857024.73684211)"
      ]
     },
     "execution_count": 1112,
     "metadata": {},
     "output_type": "execute_result"
    }
   ],
   "source": [
    "#imputasi data numerik dengan mean\n",
    "df['budget']=df['budget'].fillna(df['budget'].mean())\n",
    "np.mean(df['budget'])"
   ]
  },
  {
   "cell_type": "code",
   "execution_count": 1113,
   "metadata": {},
   "outputs": [
    {
     "data": {
      "text/plain": [
       "np.int64(0)"
      ]
     },
     "execution_count": 1113,
     "metadata": {},
     "output_type": "execute_result"
    }
   ],
   "source": [
    "#jumlah missing value\n",
    "np.sum(df['budget'].isnull())"
   ]
  },
  {
   "cell_type": "code",
   "execution_count": 1114,
   "metadata": {},
   "outputs": [
    {
     "name": "stderr",
     "output_type": "stream",
     "text": [
      "c:\\Users\\lenovo\\AppData\\Local\\Programs\\Python\\Python312\\Lib\\site-packages\\numpy\\_core\\fromnumeric.py:84: FutureWarning: The behavior of DataFrame.sum with axis=None is deprecated, in a future version this will reduce over both axes and return a scalar. To retain the old behavior, pass axis=0 (or do not pass axis)\n",
      "  return reduction(axis=axis, out=out, **passkwargs)\n"
     ]
    },
    {
     "data": {
      "text/plain": [
       "color                   0\n",
       "director_name           0\n",
       "duration                0\n",
       "gross                   0\n",
       "genres                  0\n",
       "movie_title             0\n",
       "title_year              0\n",
       "language                0\n",
       "country                 0\n",
       "budget                  0\n",
       "imdb_score              0\n",
       "actors                  0\n",
       "movie_facebook_likes    0\n",
       "dtype: int64"
      ]
     },
     "execution_count": 1114,
     "metadata": {},
     "output_type": "execute_result"
    }
   ],
   "source": [
    "np.sum(df.isnull())"
   ]
  },
  {
   "cell_type": "code",
   "execution_count": 1115,
   "metadata": {},
   "outputs": [
    {
     "data": {
      "text/html": [
       "<div>\n",
       "<style scoped>\n",
       "    .dataframe tbody tr th:only-of-type {\n",
       "        vertical-align: middle;\n",
       "    }\n",
       "\n",
       "    .dataframe tbody tr th {\n",
       "        vertical-align: top;\n",
       "    }\n",
       "\n",
       "    .dataframe thead th {\n",
       "        text-align: right;\n",
       "    }\n",
       "</style>\n",
       "<table border=\"1\" class=\"dataframe\">\n",
       "  <thead>\n",
       "    <tr style=\"text-align: right;\">\n",
       "      <th></th>\n",
       "      <th>color</th>\n",
       "      <th>director_name</th>\n",
       "      <th>duration</th>\n",
       "      <th>gross</th>\n",
       "      <th>genres</th>\n",
       "      <th>movie_title</th>\n",
       "      <th>title_year</th>\n",
       "      <th>language</th>\n",
       "      <th>country</th>\n",
       "      <th>budget</th>\n",
       "      <th>imdb_score</th>\n",
       "      <th>actors</th>\n",
       "      <th>movie_facebook_likes</th>\n",
       "    </tr>\n",
       "  </thead>\n",
       "  <tbody>\n",
       "    <tr>\n",
       "      <th>0</th>\n",
       "      <td>color</td>\n",
       "      <td>martin scorsese</td>\n",
       "      <td>240</td>\n",
       "      <td>116866727.0</td>\n",
       "      <td>biography|comedy|crime|drama</td>\n",
       "      <td>The Wolf of Wall Street</td>\n",
       "      <td>2013</td>\n",
       "      <td>english</td>\n",
       "      <td>usa</td>\n",
       "      <td>1.000000e+08</td>\n",
       "      <td>8.2</td>\n",
       "      <td>english</td>\n",
       "      <td>138000</td>\n",
       "    </tr>\n",
       "    <tr>\n",
       "      <th>1</th>\n",
       "      <td>color</td>\n",
       "      <td>shane black</td>\n",
       "      <td>195</td>\n",
       "      <td>408992272.0</td>\n",
       "      <td>action|adventure|sci-fi</td>\n",
       "      <td>Iron Man 3</td>\n",
       "      <td>2013</td>\n",
       "      <td>english</td>\n",
       "      <td>usa</td>\n",
       "      <td>2.000000e+08</td>\n",
       "      <td>7.2</td>\n",
       "      <td>english</td>\n",
       "      <td>95000</td>\n",
       "    </tr>\n",
       "    <tr>\n",
       "      <th>2</th>\n",
       "      <td>color</td>\n",
       "      <td>quentin tarantino</td>\n",
       "      <td>187</td>\n",
       "      <td>54116191.0</td>\n",
       "      <td>crime|drama|mystery|thriller|western</td>\n",
       "      <td>The Hateful Eight</td>\n",
       "      <td>2015</td>\n",
       "      <td>english</td>\n",
       "      <td>usa</td>\n",
       "      <td>4.400000e+07</td>\n",
       "      <td>7.9</td>\n",
       "      <td>english</td>\n",
       "      <td>114000</td>\n",
       "    </tr>\n",
       "    <tr>\n",
       "      <th>3</th>\n",
       "      <td>color</td>\n",
       "      <td>kenneth lonergan</td>\n",
       "      <td>186</td>\n",
       "      <td>46495.0</td>\n",
       "      <td>drama</td>\n",
       "      <td>Margaret</td>\n",
       "      <td>2011</td>\n",
       "      <td>english</td>\n",
       "      <td>usa</td>\n",
       "      <td>1.400000e+07</td>\n",
       "      <td>6.5</td>\n",
       "      <td>english</td>\n",
       "      <td>0</td>\n",
       "    </tr>\n",
       "    <tr>\n",
       "      <th>4</th>\n",
       "      <td>color</td>\n",
       "      <td>peter jackson</td>\n",
       "      <td>186</td>\n",
       "      <td>258355354.0</td>\n",
       "      <td>adventure|fantasy</td>\n",
       "      <td>The Hobbit: The Desolation of Smaug</td>\n",
       "      <td>2013</td>\n",
       "      <td>english</td>\n",
       "      <td>usa</td>\n",
       "      <td>2.250000e+08</td>\n",
       "      <td>7.9</td>\n",
       "      <td>english</td>\n",
       "      <td>83000</td>\n",
       "    </tr>\n",
       "    <tr>\n",
       "      <th>...</th>\n",
       "      <td>...</td>\n",
       "      <td>...</td>\n",
       "      <td>...</td>\n",
       "      <td>...</td>\n",
       "      <td>...</td>\n",
       "      <td>...</td>\n",
       "      <td>...</td>\n",
       "      <td>...</td>\n",
       "      <td>...</td>\n",
       "      <td>...</td>\n",
       "      <td>...</td>\n",
       "      <td>...</td>\n",
       "      <td>...</td>\n",
       "    </tr>\n",
       "    <tr>\n",
       "      <th>94</th>\n",
       "      <td>color</td>\n",
       "      <td>steve mcqueen</td>\n",
       "      <td>134</td>\n",
       "      <td>56667870.0</td>\n",
       "      <td>biography|drama|history</td>\n",
       "      <td>12 Years a Slave</td>\n",
       "      <td>2013</td>\n",
       "      <td>english</td>\n",
       "      <td>usa</td>\n",
       "      <td>2.000000e+07</td>\n",
       "      <td>8.1</td>\n",
       "      <td>english</td>\n",
       "      <td>83000</td>\n",
       "    </tr>\n",
       "    <tr>\n",
       "      <th>95</th>\n",
       "      <td>color</td>\n",
       "      <td>richard j. lewis</td>\n",
       "      <td>134</td>\n",
       "      <td>7501404.0</td>\n",
       "      <td>comedy|drama</td>\n",
       "      <td>Barney's Version</td>\n",
       "      <td>2010</td>\n",
       "      <td>english</td>\n",
       "      <td>canada</td>\n",
       "      <td>1.048570e+08</td>\n",
       "      <td>7.3</td>\n",
       "      <td>english</td>\n",
       "      <td>0</td>\n",
       "    </tr>\n",
       "    <tr>\n",
       "      <th>96</th>\n",
       "      <td>color</td>\n",
       "      <td>paul greengrass</td>\n",
       "      <td>134</td>\n",
       "      <td>107100855.0</td>\n",
       "      <td>biography|drama|thriller</td>\n",
       "      <td>Captain Phillips</td>\n",
       "      <td>2013</td>\n",
       "      <td>english</td>\n",
       "      <td>usa</td>\n",
       "      <td>5.500000e+07</td>\n",
       "      <td>7.9</td>\n",
       "      <td>english</td>\n",
       "      <td>65000</td>\n",
       "    </tr>\n",
       "    <tr>\n",
       "      <th>97</th>\n",
       "      <td>color</td>\n",
       "      <td>david ayer</td>\n",
       "      <td>134</td>\n",
       "      <td>85707116.0</td>\n",
       "      <td>action|drama|war</td>\n",
       "      <td>Fury</td>\n",
       "      <td>2014</td>\n",
       "      <td>english</td>\n",
       "      <td>usa</td>\n",
       "      <td>6.800000e+07</td>\n",
       "      <td>7.6</td>\n",
       "      <td>english</td>\n",
       "      <td>82000</td>\n",
       "    </tr>\n",
       "    <tr>\n",
       "      <th>98</th>\n",
       "      <td>color</td>\n",
       "      <td>clint eastwood</td>\n",
       "      <td>5</td>\n",
       "      <td>47034272.0</td>\n",
       "      <td>biography|drama|music|musical</td>\n",
       "      <td>Jersey Boys</td>\n",
       "      <td>2014</td>\n",
       "      <td>english</td>\n",
       "      <td>usa</td>\n",
       "      <td>4.000000e+07</td>\n",
       "      <td>6.9</td>\n",
       "      <td>english</td>\n",
       "      <td>16000</td>\n",
       "    </tr>\n",
       "  </tbody>\n",
       "</table>\n",
       "<p>99 rows × 13 columns</p>\n",
       "</div>"
      ],
      "text/plain": [
       "     color      director_name  duration        gross  \\\n",
       "0    color    martin scorsese       240  116866727.0   \n",
       "1    color        shane black       195  408992272.0   \n",
       "2   color   quentin tarantino       187   54116191.0   \n",
       "3    color   kenneth lonergan       186      46495.0   \n",
       "4    color      peter jackson       186  258355354.0   \n",
       "..     ...                ...       ...          ...   \n",
       "94   color      steve mcqueen       134   56667870.0   \n",
       "95   color   richard j. lewis       134    7501404.0   \n",
       "96   color    paul greengrass       134  107100855.0   \n",
       "97   color         david ayer       134   85707116.0   \n",
       "98   color     clint eastwood         5   47034272.0   \n",
       "\n",
       "                                  genres                          movie_title  \\\n",
       "0           biography|comedy|crime|drama              The Wolf of Wall Street   \n",
       "1                action|adventure|sci-fi                           Iron Man 3   \n",
       "2   crime|drama|mystery|thriller|western                    The Hateful Eight   \n",
       "3                                  drama                             Margaret   \n",
       "4                      adventure|fantasy  The Hobbit: The Desolation of Smaug   \n",
       "..                                   ...                                  ...   \n",
       "94               biography|drama|history                     12 Years a Slave   \n",
       "95                          comedy|drama                     Barney's Version   \n",
       "96              biography|drama|thriller                     Captain Phillips   \n",
       "97                      action|drama|war                                 Fury   \n",
       "98         biography|drama|music|musical                          Jersey Boys   \n",
       "\n",
       "    title_year language country        budget  imdb_score   actors  \\\n",
       "0         2013  english     usa  1.000000e+08         8.2  english   \n",
       "1         2013  english     usa  2.000000e+08         7.2  english   \n",
       "2         2015  english     usa  4.400000e+07         7.9  english   \n",
       "3         2011  english     usa  1.400000e+07         6.5  english   \n",
       "4         2013  english     usa  2.250000e+08         7.9  english   \n",
       "..         ...      ...     ...           ...         ...      ...   \n",
       "94        2013  english     usa  2.000000e+07         8.1  english   \n",
       "95        2010  english  canada  1.048570e+08         7.3  english   \n",
       "96        2013  english     usa  5.500000e+07         7.9  english   \n",
       "97        2014  english     usa  6.800000e+07         7.6  english   \n",
       "98        2014  english     usa  4.000000e+07         6.9  english   \n",
       "\n",
       "    movie_facebook_likes  \n",
       "0                 138000  \n",
       "1                  95000  \n",
       "2                 114000  \n",
       "3                      0  \n",
       "4                  83000  \n",
       "..                   ...  \n",
       "94                 83000  \n",
       "95                     0  \n",
       "96                 65000  \n",
       "97                 82000  \n",
       "98                 16000  \n",
       "\n",
       "[99 rows x 13 columns]"
      ]
     },
     "execution_count": 1115,
     "metadata": {},
     "output_type": "execute_result"
    }
   ],
   "source": [
    "#menghapus baris yang memiliki nilai kosong di kolom gross dan budget.\n",
    "df_clean = df_clean.dropna(subset=['gross', 'budget'])\n",
    "df_clean"
   ]
  },
  {
   "cell_type": "code",
   "execution_count": 1116,
   "metadata": {},
   "outputs": [
    {
     "data": {
      "text/plain": [
       "0     english\n",
       "1     english\n",
       "2     english\n",
       "3     english\n",
       "4     english\n",
       "       ...   \n",
       "94    english\n",
       "95    english\n",
       "96    english\n",
       "97    english\n",
       "98    english\n",
       "Name: actors, Length: 99, dtype: object"
      ]
     },
     "execution_count": 1116,
     "metadata": {},
     "output_type": "execute_result"
    }
   ],
   "source": [
    "#normalisasi teks ke huruf kecil\n",
    "df_clean['color'] = df_clean['color'].str.lower()\n",
    "df_clean['director_name'] = df_clean['director_name'].str.lower()\n",
    "df_clean['genres'] = df_clean['genres'].str.lower()\n",
    "df_clean['language'] = df_clean['language'].str.lower()\n",
    "df_clean['country'] = df_clean['country'].str.lower()\n",
    "df_clean['actors'] = df_clean['language'].str.lower()\n",
    "\n",
    "#mengecek apakah teks sudah menjadi huruf kecil atau belum\n",
    "df_clean['actors']"
   ]
  },
  {
   "cell_type": "code",
   "execution_count": 1117,
   "metadata": {},
   "outputs": [],
   "source": [
    "#memfilter baris dengan nilai budget dan gross yang bernilai negatif\n",
    "df_clean = df_clean[(df_clean['budget'] >= 0) & (df_clean['gross'] >= 0)]"
   ]
  },
  {
   "cell_type": "code",
   "execution_count": 1118,
   "metadata": {},
   "outputs": [
    {
     "data": {
      "text/plain": [
       "color                    object\n",
       "director_name            object\n",
       "duration                  int64\n",
       "gross                   float64\n",
       "genres                   object\n",
       "movie_title              object\n",
       "title_year                int64\n",
       "language                 object\n",
       "country                  object\n",
       "budget                  float64\n",
       "imdb_score              float64\n",
       "actors                   object\n",
       "movie_facebook_likes      int64\n",
       "dtype: object"
      ]
     },
     "execution_count": 1118,
     "metadata": {},
     "output_type": "execute_result"
    }
   ],
   "source": [
    "#mengubah tipe data kolom yang diperlukan\n",
    "df_clean[[\"color\", \"director_name\", \"genres\"]]=df_clean[[\"color\", \"director_name\", \"genres\"]].astype(str)\n",
    "df_clean[[\"budget\", \"gross\"]]=df_clean[[\"budget\", \"gross\"]].astype(float)\n",
    "df_clean.dtypes"
   ]
  },
  {
   "cell_type": "code",
   "execution_count": 1119,
   "metadata": {},
   "outputs": [],
   "source": [
    "#menyimpan data yang telah diproses ke dalam file CSV baru\n",
    "df_clean.to_csv('movie_dataset_cleaned.csv')"
   ]
  },
  {
   "cell_type": "code",
   "execution_count": 1120,
   "metadata": {},
   "outputs": [
    {
     "name": "stderr",
     "output_type": "stream",
     "text": [
      "<>:1: SyntaxWarning: invalid escape sequence '\\P'\n",
      "<>:1: SyntaxWarning: invalid escape sequence '\\P'\n",
      "C:\\Users\\lenovo\\AppData\\Local\\Temp\\ipykernel_1760\\3665188518.py:1: SyntaxWarning: invalid escape sequence '\\P'\n",
      "  datanonmissing = pd.read_csv(\"e:\\PENDMAT UNNES21\\SEMESTER VII\\Data Mining\\Tugas Praktikum Preprocessing\\.vscode/movie_dataset_cleaned.csv\")\n"
     ]
    }
   ],
   "source": [
    "datanonmissing = pd.read_csv(\"e:\\PENDMAT UNNES21\\SEMESTER VII\\Data Mining\\Tugas Praktikum Preprocessing\\.vscode/movie_dataset_cleaned.csv\")"
   ]
  },
  {
   "cell_type": "code",
   "execution_count": 1121,
   "metadata": {},
   "outputs": [],
   "source": [
    "datanonmissing = datanonmissing.dropna(axis='columns')"
   ]
  },
  {
   "cell_type": "code",
   "execution_count": 1122,
   "metadata": {},
   "outputs": [
    {
     "data": {
      "text/html": [
       "<div>\n",
       "<style scoped>\n",
       "    .dataframe tbody tr th:only-of-type {\n",
       "        vertical-align: middle;\n",
       "    }\n",
       "\n",
       "    .dataframe tbody tr th {\n",
       "        vertical-align: top;\n",
       "    }\n",
       "\n",
       "    .dataframe thead th {\n",
       "        text-align: right;\n",
       "    }\n",
       "</style>\n",
       "<table border=\"1\" class=\"dataframe\">\n",
       "  <thead>\n",
       "    <tr style=\"text-align: right;\">\n",
       "      <th></th>\n",
       "      <th>Unnamed: 0</th>\n",
       "      <th>color</th>\n",
       "      <th>duration</th>\n",
       "      <th>gross</th>\n",
       "      <th>genres</th>\n",
       "      <th>movie_title</th>\n",
       "      <th>title_year</th>\n",
       "      <th>language</th>\n",
       "      <th>country</th>\n",
       "      <th>budget</th>\n",
       "      <th>imdb_score</th>\n",
       "      <th>actors</th>\n",
       "      <th>movie_facebook_likes</th>\n",
       "    </tr>\n",
       "  </thead>\n",
       "  <tbody>\n",
       "    <tr>\n",
       "      <th>0</th>\n",
       "      <td>0</td>\n",
       "      <td>color</td>\n",
       "      <td>240</td>\n",
       "      <td>116866727.0</td>\n",
       "      <td>biography|comedy|crime|drama</td>\n",
       "      <td>The Wolf of Wall Street</td>\n",
       "      <td>2013</td>\n",
       "      <td>english</td>\n",
       "      <td>usa</td>\n",
       "      <td>100000000.0</td>\n",
       "      <td>8.2</td>\n",
       "      <td>english</td>\n",
       "      <td>138000</td>\n",
       "    </tr>\n",
       "    <tr>\n",
       "      <th>1</th>\n",
       "      <td>1</td>\n",
       "      <td>color</td>\n",
       "      <td>195</td>\n",
       "      <td>408992272.0</td>\n",
       "      <td>action|adventure|sci-fi</td>\n",
       "      <td>Iron Man 3</td>\n",
       "      <td>2013</td>\n",
       "      <td>english</td>\n",
       "      <td>usa</td>\n",
       "      <td>200000000.0</td>\n",
       "      <td>7.2</td>\n",
       "      <td>english</td>\n",
       "      <td>95000</td>\n",
       "    </tr>\n",
       "    <tr>\n",
       "      <th>2</th>\n",
       "      <td>2</td>\n",
       "      <td>color</td>\n",
       "      <td>187</td>\n",
       "      <td>54116191.0</td>\n",
       "      <td>crime|drama|mystery|thriller|western</td>\n",
       "      <td>The Hateful Eight</td>\n",
       "      <td>2015</td>\n",
       "      <td>english</td>\n",
       "      <td>usa</td>\n",
       "      <td>44000000.0</td>\n",
       "      <td>7.9</td>\n",
       "      <td>english</td>\n",
       "      <td>114000</td>\n",
       "    </tr>\n",
       "    <tr>\n",
       "      <th>3</th>\n",
       "      <td>3</td>\n",
       "      <td>color</td>\n",
       "      <td>186</td>\n",
       "      <td>46495.0</td>\n",
       "      <td>drama</td>\n",
       "      <td>Margaret</td>\n",
       "      <td>2011</td>\n",
       "      <td>english</td>\n",
       "      <td>usa</td>\n",
       "      <td>14000000.0</td>\n",
       "      <td>6.5</td>\n",
       "      <td>english</td>\n",
       "      <td>0</td>\n",
       "    </tr>\n",
       "    <tr>\n",
       "      <th>4</th>\n",
       "      <td>4</td>\n",
       "      <td>color</td>\n",
       "      <td>186</td>\n",
       "      <td>258355354.0</td>\n",
       "      <td>adventure|fantasy</td>\n",
       "      <td>The Hobbit: The Desolation of Smaug</td>\n",
       "      <td>2013</td>\n",
       "      <td>english</td>\n",
       "      <td>usa</td>\n",
       "      <td>225000000.0</td>\n",
       "      <td>7.9</td>\n",
       "      <td>english</td>\n",
       "      <td>83000</td>\n",
       "    </tr>\n",
       "  </tbody>\n",
       "</table>\n",
       "</div>"
      ],
      "text/plain": [
       "   Unnamed: 0   color  duration        gross  \\\n",
       "0           0   color       240  116866727.0   \n",
       "1           1   color       195  408992272.0   \n",
       "2           2  color        187   54116191.0   \n",
       "3           3   color       186      46495.0   \n",
       "4           4   color       186  258355354.0   \n",
       "\n",
       "                                 genres                          movie_title  \\\n",
       "0          biography|comedy|crime|drama              The Wolf of Wall Street   \n",
       "1               action|adventure|sci-fi                           Iron Man 3   \n",
       "2  crime|drama|mystery|thriller|western                    The Hateful Eight   \n",
       "3                                 drama                             Margaret   \n",
       "4                     adventure|fantasy  The Hobbit: The Desolation of Smaug   \n",
       "\n",
       "   title_year language country       budget  imdb_score   actors  \\\n",
       "0        2013  english     usa  100000000.0         8.2  english   \n",
       "1        2013  english     usa  200000000.0         7.2  english   \n",
       "2        2015  english     usa   44000000.0         7.9  english   \n",
       "3        2011  english     usa   14000000.0         6.5  english   \n",
       "4        2013  english     usa  225000000.0         7.9  english   \n",
       "\n",
       "   movie_facebook_likes  \n",
       "0                138000  \n",
       "1                 95000  \n",
       "2                114000  \n",
       "3                     0  \n",
       "4                 83000  "
      ]
     },
     "execution_count": 1122,
     "metadata": {},
     "output_type": "execute_result"
    }
   ],
   "source": [
    "datanonmissing.head()"
   ]
  },
  {
   "cell_type": "code",
   "execution_count": 1123,
   "metadata": {},
   "outputs": [],
   "source": [
    "datanonmissing = datanonmissing.dropna()"
   ]
  },
  {
   "cell_type": "code",
   "execution_count": 1124,
   "metadata": {},
   "outputs": [
    {
     "name": "stdout",
     "output_type": "stream",
     "text": [
      "<class 'pandas.core.frame.DataFrame'>\n",
      "RangeIndex: 99 entries, 0 to 98\n",
      "Data columns (total 13 columns):\n",
      " #   Column                Non-Null Count  Dtype  \n",
      "---  ------                --------------  -----  \n",
      " 0   Unnamed: 0            99 non-null     int64  \n",
      " 1   color                 99 non-null     object \n",
      " 2   duration              99 non-null     int64  \n",
      " 3   gross                 99 non-null     float64\n",
      " 4   genres                99 non-null     object \n",
      " 5   movie_title           99 non-null     object \n",
      " 6   title_year            99 non-null     int64  \n",
      " 7   language              99 non-null     object \n",
      " 8   country               99 non-null     object \n",
      " 9   budget                99 non-null     float64\n",
      " 10  imdb_score            99 non-null     float64\n",
      " 11  actors                99 non-null     object \n",
      " 12  movie_facebook_likes  99 non-null     int64  \n",
      "dtypes: float64(3), int64(4), object(6)\n",
      "memory usage: 10.2+ KB\n"
     ]
    }
   ],
   "source": [
    "datanonmissing.info()"
   ]
  }
 ],
 "metadata": {
  "kernelspec": {
   "display_name": "Python 3",
   "language": "python",
   "name": "python3"
  },
  "language_info": {
   "codemirror_mode": {
    "name": "ipython",
    "version": 3
   },
   "file_extension": ".py",
   "mimetype": "text/x-python",
   "name": "python",
   "nbconvert_exporter": "python",
   "pygments_lexer": "ipython3",
   "version": "3.12.6"
  }
 },
 "nbformat": 4,
 "nbformat_minor": 2
}
